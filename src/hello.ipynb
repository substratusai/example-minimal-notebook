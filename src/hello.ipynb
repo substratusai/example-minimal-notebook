{
 "cells": [
  {
   "cell_type": "code",
   "execution_count": null,
   "id": "c85a1704-f838-4ca8-86aa-f8abc178eb60",
   "metadata": {},
   "outputs": [],
   "source": [
    "import numpy as np"
   ]
  },
  {
   "cell_type": "code",
   "execution_count": null,
   "id": "e8fe4d06-939b-4629-b2dc-240f56758018",
   "metadata": {},
   "outputs": [],
   "source": [
    "np.arange(3)"
   ]
  }
 ],
 "metadata": {
  "kernelspec": {
   "display_name": "Python 3 (ipykernel)",
   "language": "python",
   "name": "python3"
  },
  "language_info": {
   "codemirror_mode": {
    "name": "ipython",
    "version": 3
   },
   "file_extension": ".py",
   "mimetype": "text/x-python",
   "name": "python",
   "nbconvert_exporter": "python",
   "pygments_lexer": "ipython3",
   "version": "3.10.12"
  }
 },
 "nbformat": 4,
 "nbformat_minor": 5
}
